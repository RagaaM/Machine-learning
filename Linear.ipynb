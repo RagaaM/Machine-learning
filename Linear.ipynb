{
 "cells": [
  {
   "cell_type": "code",
   "execution_count": 21,
   "id": "73f4b0f5-9bdf-4771-b90b-3cdaa88b7d34",
   "metadata": {},
   "outputs": [],
   "source": [
    "import matplotlib.pyplot as plt\n",
    "import numpy as np\n",
    "import pandas as pd\n",
    "import seaborn as sns\n",
    "from sklearn import datasets, linear_model\n",
    "from sklearn.linear_model import LinearRegression\n",
    "from sklearn import metrics"
   ]
  },
  {
   "cell_type": "code",
   "execution_count": 22,
   "id": "af696d14-c825-4268-bf94-89e9c3eb8d0d",
   "metadata": {},
   "outputs": [],
   "source": [
    "dataset = pd.read_csv(\"log2.csv\")"
   ]
  },
  {
   "cell_type": "code",
   "execution_count": 23,
   "id": "b220e3d3-d6c3-4517-8780-13af2f889252",
   "metadata": {},
   "outputs": [],
   "source": [
    "feature_cols = ['Source Port', 'Destination Port', 'NAT Source Port',\n",
    "       'NAT Destination Port', 'Action', 'Bytes', 'Bytes Sent',\n",
    "       'Bytes Received', 'Packets', 'Elapsed Time (sec)', 'pkts_sent',\n",
    "       'pkts_received']"
   ]
  },
  {
   "cell_type": "code",
   "execution_count": 24,
   "id": "0baa7f63-a334-432c-bf2d-0df3dad03e87",
   "metadata": {},
   "outputs": [],
   "source": [
    "action_values = {'drop':0, 'allow': 1,'deny':2, 'reset-both':3}\n",
    "dataset.Action = [action_values[item] for item in dataset.Action]"
   ]
  },
  {
   "cell_type": "code",
   "execution_count": 25,
   "id": "8d099dab-242d-439d-85f6-e6c6cc1c14d1",
   "metadata": {},
   "outputs": [],
   "source": [
    "data = dataset[feature_cols]\n",
    "target = dataset.Action "
   ]
  },
  {
   "cell_type": "code",
   "execution_count": 26,
   "id": "48a743de-f380-465a-8c1c-c7ccf8ca2bde",
   "metadata": {},
   "outputs": [
    {
     "data": {
      "text/html": [
       "<div>\n",
       "<style scoped>\n",
       "    .dataframe tbody tr th:only-of-type {\n",
       "        vertical-align: middle;\n",
       "    }\n",
       "\n",
       "    .dataframe tbody tr th {\n",
       "        vertical-align: top;\n",
       "    }\n",
       "\n",
       "    .dataframe thead th {\n",
       "        text-align: right;\n",
       "    }\n",
       "</style>\n",
       "<table border=\"1\" class=\"dataframe\">\n",
       "  <thead>\n",
       "    <tr style=\"text-align: right;\">\n",
       "      <th></th>\n",
       "      <th>Source Port</th>\n",
       "      <th>Destination Port</th>\n",
       "      <th>NAT Source Port</th>\n",
       "      <th>NAT Destination Port</th>\n",
       "      <th>Action</th>\n",
       "      <th>Bytes</th>\n",
       "      <th>Bytes Sent</th>\n",
       "      <th>Bytes Received</th>\n",
       "      <th>Packets</th>\n",
       "      <th>Elapsed Time (sec)</th>\n",
       "      <th>pkts_sent</th>\n",
       "      <th>pkts_received</th>\n",
       "    </tr>\n",
       "  </thead>\n",
       "  <tbody>\n",
       "    <tr>\n",
       "      <th>0</th>\n",
       "      <td>57222</td>\n",
       "      <td>53</td>\n",
       "      <td>54587</td>\n",
       "      <td>53</td>\n",
       "      <td>1</td>\n",
       "      <td>177</td>\n",
       "      <td>94</td>\n",
       "      <td>83</td>\n",
       "      <td>2</td>\n",
       "      <td>30</td>\n",
       "      <td>1</td>\n",
       "      <td>1</td>\n",
       "    </tr>\n",
       "    <tr>\n",
       "      <th>1</th>\n",
       "      <td>56258</td>\n",
       "      <td>3389</td>\n",
       "      <td>56258</td>\n",
       "      <td>3389</td>\n",
       "      <td>1</td>\n",
       "      <td>4768</td>\n",
       "      <td>1600</td>\n",
       "      <td>3168</td>\n",
       "      <td>19</td>\n",
       "      <td>17</td>\n",
       "      <td>10</td>\n",
       "      <td>9</td>\n",
       "    </tr>\n",
       "    <tr>\n",
       "      <th>2</th>\n",
       "      <td>6881</td>\n",
       "      <td>50321</td>\n",
       "      <td>43265</td>\n",
       "      <td>50321</td>\n",
       "      <td>1</td>\n",
       "      <td>238</td>\n",
       "      <td>118</td>\n",
       "      <td>120</td>\n",
       "      <td>2</td>\n",
       "      <td>1199</td>\n",
       "      <td>1</td>\n",
       "      <td>1</td>\n",
       "    </tr>\n",
       "    <tr>\n",
       "      <th>3</th>\n",
       "      <td>50553</td>\n",
       "      <td>3389</td>\n",
       "      <td>50553</td>\n",
       "      <td>3389</td>\n",
       "      <td>1</td>\n",
       "      <td>3327</td>\n",
       "      <td>1438</td>\n",
       "      <td>1889</td>\n",
       "      <td>15</td>\n",
       "      <td>17</td>\n",
       "      <td>8</td>\n",
       "      <td>7</td>\n",
       "    </tr>\n",
       "    <tr>\n",
       "      <th>4</th>\n",
       "      <td>50002</td>\n",
       "      <td>443</td>\n",
       "      <td>45848</td>\n",
       "      <td>443</td>\n",
       "      <td>1</td>\n",
       "      <td>25358</td>\n",
       "      <td>6778</td>\n",
       "      <td>18580</td>\n",
       "      <td>31</td>\n",
       "      <td>16</td>\n",
       "      <td>13</td>\n",
       "      <td>18</td>\n",
       "    </tr>\n",
       "  </tbody>\n",
       "</table>\n",
       "</div>"
      ],
      "text/plain": [
       "   Source Port  Destination Port  NAT Source Port  NAT Destination Port  \\\n",
       "0        57222                53            54587                    53   \n",
       "1        56258              3389            56258                  3389   \n",
       "2         6881             50321            43265                 50321   \n",
       "3        50553              3389            50553                  3389   \n",
       "4        50002               443            45848                   443   \n",
       "\n",
       "   Action  Bytes  Bytes Sent  Bytes Received  Packets  Elapsed Time (sec)  \\\n",
       "0       1    177          94              83        2                  30   \n",
       "1       1   4768        1600            3168       19                  17   \n",
       "2       1    238         118             120        2                1199   \n",
       "3       1   3327        1438            1889       15                  17   \n",
       "4       1  25358        6778           18580       31                  16   \n",
       "\n",
       "   pkts_sent  pkts_received  \n",
       "0          1              1  \n",
       "1         10              9  \n",
       "2          1              1  \n",
       "3          8              7  \n",
       "4         13             18  "
      ]
     },
     "execution_count": 26,
     "metadata": {},
     "output_type": "execute_result"
    }
   ],
   "source": [
    "dataset.head()"
   ]
  },
  {
   "cell_type": "code",
   "execution_count": 27,
   "id": "2a0b2343-e109-4a0a-913a-59df484f732b",
   "metadata": {},
   "outputs": [],
   "source": [
    "from sklearn.model_selection import train_test_split\n",
    "X_train, X_test, Y_train, Y_test = train_test_split(data,target,test_size=0.25)"
   ]
  },
  {
   "cell_type": "code",
   "execution_count": 28,
   "id": "cc58929e-b748-4bc6-891b-0b0513e1503a",
   "metadata": {},
   "outputs": [],
   "source": [
    "# from sklearn.preprocessing import MinMaxScaler\n",
    "# min_max_scaler = MinMaxScaler().fit(X_test)\n",
    "# X_norm = min_max_scaler.transform(X_train)"
   ]
  },
  {
   "cell_type": "code",
   "execution_count": 29,
   "id": "73ba417e-3afd-48a0-a6df-d1e27e392840",
   "metadata": {},
   "outputs": [
    {
     "data": {
      "text/plain": [
       "LinearRegression()"
      ]
     },
     "execution_count": 29,
     "metadata": {},
     "output_type": "execute_result"
    }
   ],
   "source": [
    "# Model ready\n",
    "lr = LinearRegression()\n",
    "lr.fit(X_train, Y_train)"
   ]
  },
  {
   "cell_type": "code",
   "execution_count": 30,
   "id": "45d30b3b-3063-4eff-b6a7-c4bd9831825f",
   "metadata": {},
   "outputs": [
    {
     "data": {
      "text/plain": [
       "array([ 3.65833855e-17,  9.21715624e-17,  8.19577523e-17, -2.94770636e-17,\n",
       "        1.00000000e+00, -4.78512029e-07,  4.78512029e-07,  4.78512029e-07,\n",
       "       -2.31593322e-10, -9.78514784e-17,  2.31593566e-10,  2.31593059e-10])"
      ]
     },
     "execution_count": 30,
     "metadata": {},
     "output_type": "execute_result"
    }
   ],
   "source": [
    "coef = lr.coef_\n",
    "coef"
   ]
  },
  {
   "cell_type": "code",
   "execution_count": 31,
   "id": "a4f8792b-e1eb-4fb7-a11a-f0ea58a61d28",
   "metadata": {},
   "outputs": [
    {
     "data": {
      "text/plain": [
       "-5.287992266289621e-12"
      ]
     },
     "execution_count": 31,
     "metadata": {},
     "output_type": "execute_result"
    }
   ],
   "source": [
    "intercept = lr.intercept_\n",
    "intercept"
   ]
  },
  {
   "cell_type": "code",
   "execution_count": 32,
   "id": "c1119401-096a-4002-9a8a-c8b3310c4fff",
   "metadata": {},
   "outputs": [],
   "source": [
    "y_pred = lr.predict(X_test)"
   ]
  },
  {
   "cell_type": "code",
   "execution_count": 33,
   "id": "d566feda-12a0-44ed-87d6-6ecc5a304fa1",
   "metadata": {},
   "outputs": [],
   "source": [
    "#mean-absolute error\n",
    "MAE = metrics.mean_absolute_error(Y_test,y_pred)"
   ]
  },
  {
   "cell_type": "code",
   "execution_count": 34,
   "id": "2f9dbd17-d72e-4c79-92e0-ec18b26f1378",
   "metadata": {},
   "outputs": [],
   "source": [
    "#mean-square error\n",
    "MSE = metrics.mean_squared_error(Y_test,y_pred) "
   ]
  },
  {
   "cell_type": "code",
   "execution_count": 35,
   "id": "d74a839d-fe27-4958-a016-fed981c5b921",
   "metadata": {},
   "outputs": [],
   "source": [
    "#Root-mean-square error\n",
    "RMSE = np.sqrt(MSE)"
   ]
  },
  {
   "cell_type": "code",
   "execution_count": 36,
   "id": "cce5eac2-2fed-4d23-9497-1ee864491789",
   "metadata": {},
   "outputs": [
    {
     "name": "stdout",
     "output_type": "stream",
     "text": [
      "MAE: 1.9680722723111672e-10 %\n",
      "MSE: 5.301047950895067e-22 %\n",
      "RMSE: 2.3024004757850156e-10 %\n"
     ]
    }
   ],
   "source": [
    "print(\"MAE:\", MAE*100,'%')\n",
    "print(\"MSE:\", MSE*100,'%')\n",
    "print(\"RMSE:\", RMSE*100,'%')"
   ]
  },
  {
   "cell_type": "code",
   "execution_count": 37,
   "id": "1069c89c-5b00-4f25-8729-46809855a771",
   "metadata": {},
   "outputs": [],
   "source": [
    "r2_score = metrics.r2_score(Y_test, y_pred)"
   ]
  },
  {
   "cell_type": "code",
   "execution_count": 38,
   "id": "db8e9f63-5a3a-4670-b3cd-74b542e22987",
   "metadata": {},
   "outputs": [
    {
     "name": "stdout",
     "output_type": "stream",
     "text": [
      "100.0\n"
     ]
    }
   ],
   "source": [
    "print(r2_score*100)"
   ]
  },
  {
   "cell_type": "code",
   "execution_count": 39,
   "id": "9e4a5daf-5406-41fc-a0ba-c19ae953c158",
   "metadata": {},
   "outputs": [],
   "source": [
    "acc = metrics.max_error(Y_test, y_pred)"
   ]
  },
  {
   "cell_type": "code",
   "execution_count": 20,
   "id": "90dc04ab-a509-4215-90c8-a9c92289e7c8",
   "metadata": {},
   "outputs": [],
   "source": [
    "# metrics.classification_report(Y_test,y_pred)"
   ]
  }
 ],
 "metadata": {
  "kernelspec": {
   "display_name": "Python 3 (ipykernel)",
   "language": "python",
   "name": "python3"
  },
  "language_info": {
   "codemirror_mode": {
    "name": "ipython",
    "version": 3
   },
   "file_extension": ".py",
   "mimetype": "text/x-python",
   "name": "python",
   "nbconvert_exporter": "python",
   "pygments_lexer": "ipython3",
   "version": "3.9.7"
  }
 },
 "nbformat": 4,
 "nbformat_minor": 5
}
