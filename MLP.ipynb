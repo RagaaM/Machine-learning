{
  "nbformat": 4,
  "nbformat_minor": 0,
  "metadata": {
    "colab": {
      "name": "MLP.ipynb",
      "provenance": [],
      "collapsed_sections": []
    },
    "kernelspec": {
      "name": "python3",
      "display_name": "Python 3"
    },
    "language_info": {
      "name": "python"
    }
  },
  "cells": [
    {
      "cell_type": "code",
      "execution_count": null,
      "metadata": {
        "id": "aM58-4PDGEsh"
      },
      "outputs": [],
      "source": [
        "# importing libraries\n",
        "import numpy as np\n",
        "import pandas as pd\n",
        "from sklearn.neural_network import MLPClassifier\n",
        "from sklearn.model_selection import train_test_split\n",
        "from sklearn import metrics\n",
        "#confusion matrix visualization\n",
        "import seaborn as sns\n",
        "import matplotlib.pyplot as plt"
      ]
    },
    {
      "cell_type": "code",
      "source": [
        "url = 'https://raw.githubusercontent.com/RagaaM/Machine-learning/main/log2.csv'\n",
        "dataset = pd.read_csv(url)\n",
        "\n",
        "# creating a dict file \n",
        "Action = {'drop':0, 'allow': 1,'deny':2, 'reset-both':3}\n",
        "\n",
        "dataset.Action = [Action[item] for item in dataset.Action]\n",
        "#print(dataset)"
      ],
      "metadata": {
        "id": "YzE6BdKCGREp"
      },
      "execution_count": null,
      "outputs": []
    },
    {
      "cell_type": "code",
      "source": [
        "# scaler = StandardScaler()\n",
        "# scaler.fit(features)\n",
        "# standardized_data = scaler.transform(features)\n",
        "# print(standardized_data)\n",
        "# features = standardized_data"
      ],
      "metadata": {
        "id": "crXgLqM7RN85"
      },
      "execution_count": null,
      "outputs": []
    },
    {
      "cell_type": "code",
      "source": [
        "target = dataset.Action\n",
        "dataset.columns = dataset.columns.str.replace(' ', '')\n",
        "\n",
        "feature_columns = ['SourcePort', 'DestinationPort', 'NATSourcePort', 'NATDestinationPort', 'Bytes', 'BytesSent', 'BytesReceived', 'Packets', 'ElapsedTime(sec)', 'pkts_sent', 'pkts_received']\n",
        "features = dataset[feature_columns]\n",
        "\n",
        "X_train,X_test,y_train,y_test=train_test_split(features,target,test_size=0.25,random_state=100)"
      ],
      "metadata": {
        "id": "-vYeSzIcJ6wH"
      },
      "execution_count": null,
      "outputs": []
    },
    {
      "cell_type": "code",
      "source": [
        "classifier = MLPClassifier(hidden_layer_sizes=(150,100,50), max_iter=300,activation = 'relu',solver='adam',random_state=1)\n",
        "#Fitting the training data to the network\n",
        "classifier.fit(X_train, y_train)\n",
        "#Predicting y for X_test\n",
        "y_pred = classifier.predict(X_test)"
      ],
      "metadata": {
        "id": "_RNMM8kKJ_lW"
      },
      "execution_count": null,
      "outputs": []
    },
    {
      "cell_type": "code",
      "source": [
        "#Accuracy\n",
        "print(\"Accuracy:\",metrics.accuracy_score(y_test, y_pred))"
      ],
      "metadata": {
        "colab": {
          "base_uri": "https://localhost:8080/"
        },
        "id": "yXVjFG2NKSnf",
        "outputId": "7a630fa8-a04d-4494-ab86-e37b6821a47a"
      },
      "execution_count": null,
      "outputs": [
        {
          "output_type": "stream",
          "name": "stdout",
          "text": [
            "Accuracy: 0.9600805713239333\n"
          ]
        }
      ]
    },
    {
      "cell_type": "code",
      "source": [
        "#Confusion Matrix\n",
        "cm = metrics.confusion_matrix(y_test, y_pred)\n",
        "cm"
      ],
      "metadata": {
        "colab": {
          "base_uri": "https://localhost:8080/"
        },
        "id": "dvZ8LQJOKT0r",
        "outputId": "2c02c24e-f392-485d-9f09-42873d4ace43"
      },
      "execution_count": null,
      "outputs": [
        {
          "output_type": "execute_result",
          "data": {
            "text/plain": [
              "array([[3215,    0,    0,    0],\n",
              "       [  63, 8879,  451,    0],\n",
              "       [ 128,    4, 3635,    0],\n",
              "       [   0,    2,    6,    0]])"
            ]
          },
          "metadata": {},
          "execution_count": 18
        }
      ]
    },
    {
      "cell_type": "code",
      "source": [
        "#Seaborn comments: \n",
        "#annotbool or rectangular dataset, optional : if True, write the data value in each cell.\n",
        "#fmtstr, optional: String formatting code to use when adding annotations.\n",
        "#axmatplotlib Axes, optional: Axes in which to draw the plot, otherwise use the currently-active Axes.\n",
        "f, ax=plt.subplots(figsize=(5,5))\n",
        "sns.heatmap(cm,annot=True,linewidths=0.2,fmt=\".0f\",ax=ax)\n",
        "\n",
        "plt.title(\"Confusion Matrix\")\n",
        "plt.xlabel(\"Y Predict\")\n",
        "plt.ylabel(\"Y Actual\")\n",
        "plt.show()"
      ],
      "metadata": {
        "colab": {
          "base_uri": "https://localhost:8080/",
          "height": 490
        },
        "id": "igDGuPhmKX6k",
        "outputId": "9567a4fb-4d3f-4bfe-d11b-f2fc75177ca6"
      },
      "execution_count": null,
      "outputs": [
        {
          "output_type": "display_data",
          "data": {
            "image/png": "[encoded data removed]",
            "text/plain": [
              "<Figure size 500x500 with 2 Axes>"
            ]
          },
          "metadata": {}
        }
      ]
    },
    {
      "cell_type": "code",
      "source": [
        "print(metrics.classification_report(y_test, y_pred))"
      ],
      "metadata": {
        "colab": {
          "base_uri": "https://localhost:8080/"
        },
        "id": "5zF30UyjKtNT",
        "outputId": "f8434114-39f3-416a-a2b7-d8ad5c106ed1"
      },
      "execution_count": null,
      "outputs": [
        {
          "output_type": "stream",
          "name": "stdout",
          "text": [
            "              precision    recall  f1-score   support\n",
            "\n",
            "           0       0.94      1.00      0.97      3215\n",
            "           1       1.00      0.95      0.97      9393\n",
            "           2       0.89      0.96      0.93      3767\n",
            "           3       0.00      0.00      0.00         8\n",
            "\n",
            "    accuracy                           0.96     16383\n",
            "   macro avg       0.71      0.73      0.72     16383\n",
            "weighted avg       0.96      0.96      0.96     16383\n",
            "\n"
          ]
        },
        {
          "output_type": "stream",
          "name": "stderr",
          "text": [
            "/usr/local/lib/python3.7/dist-packages/sklearn/metrics/_classification.py:1308: UndefinedMetricWarning: Precision and F-score are ill-defined and being set to 0.0 in labels with no predicted samples. Use `zero_division` parameter to control this behavior.\n",
            "  _warn_prf(average, modifier, msg_start, len(result))\n",
            "/usr/local/lib/python3.7/dist-packages/sklearn/metrics/_classification.py:1308: UndefinedMetricWarning: Precision and F-score are ill-defined and being set to 0.0 in labels with no predicted samples. Use `zero_division` parameter to control this behavior.\n",
            "  _warn_prf(average, modifier, msg_start, len(result))\n",
            "/usr/local/lib/python3.7/dist-packages/sklearn/metrics/_classification.py:1308: UndefinedMetricWarning: Precision and F-score are ill-defined and being set to 0.0 in labels with no predicted samples. Use `zero_division` parameter to control this behavior.\n",
            "  _warn_prf(average, modifier, msg_start, len(result))\n"
          ]
        }
      ]
    }
  ]
}