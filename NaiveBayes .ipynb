{
 "cells": [
  {
   "cell_type": "code",
   "execution_count": 1,
   "id": "fdebcb4d",
   "metadata": {},
   "outputs": [],
   "source": [
    "import matplotlib.pyplot as plt\n",
    "import numpy as np\n",
    "import pandas as pd\n",
    "import seaborn as sns\n",
    "import sklearn\n",
    "from sklearn.naive_bayes import GaussianNB\n",
    "from sklearn.naive_bayes import MultinomialNB\n",
    "from sklearn.naive_bayes import BernoulliNB\n",
    "from sklearn.naive_bayes import CategoricalNB\n",
    "from sklearn import metrics\n",
    "from sklearn.metrics import plot_confusion_matrix"
   ]
  },
  {
   "cell_type": "code",
   "execution_count": 2,
   "id": "a98b4f8e-76b8-4ef8-8ad1-023e9163c618",
   "metadata": {},
   "outputs": [],
   "source": [
    "dataset = pd.read_csv(\"log2.csv\")"
   ]
  },
  {
   "cell_type": "code",
   "execution_count": 3,
   "id": "6c799635-729e-4f4c-b9ba-94b04c371eb8",
   "metadata": {},
   "outputs": [],
   "source": [
    "feature_cols = ['Source Port', 'Destination Port', 'NAT Source Port',\n",
    "       'NAT Destination Port', 'Action', 'Bytes', 'Bytes Sent',\n",
    "       'Bytes Received', 'Packets', 'Elapsed Time (sec)', 'pkts_sent',\n",
    "       'pkts_received']"
   ]
  },
  {
   "cell_type": "code",
   "execution_count": 4,
   "id": "96680944-9087-4763-ac15-c72601889ec6",
   "metadata": {},
   "outputs": [],
   "source": [
    "action_values = {'drop':0, 'allow': 1,'deny':2, 'reset-both':3}\n",
    "dataset.Action = [action_values[item] for item in dataset.Action]"
   ]
  },
  {
   "cell_type": "code",
   "execution_count": 5,
   "id": "0958bc04",
   "metadata": {},
   "outputs": [
    {
     "data": {
      "text/plain": [
       "MinMaxScaler()"
      ]
     },
     "execution_count": 5,
     "metadata": {},
     "output_type": "execute_result"
    }
   ],
   "source": [
    "# MinMax --> transform features by scaling to a certain range\n",
    "#Normalization (didn't affect)\n",
    "from sklearn.preprocessing import MinMaxScaler\n",
    "scaler = MinMaxScaler() \n",
    "scaler.fit(dataset)"
   ]
  },
  {
   "cell_type": "code",
   "execution_count": 6,
   "id": "6b7e5991-5832-41f9-9457-42ed360e5836",
   "metadata": {},
   "outputs": [],
   "source": [
    "data = dataset[feature_cols]\n",
    "target = dataset.Action "
   ]
  },
  {
   "cell_type": "code",
   "execution_count": 7,
   "id": "808430ed-3554-43c9-bf6e-08eabad81455",
   "metadata": {},
   "outputs": [
    {
     "data": {
      "text/html": [
       "<div>\n",
       "<style scoped>\n",
       "    .dataframe tbody tr th:only-of-type {\n",
       "        vertical-align: middle;\n",
       "    }\n",
       "\n",
       "    .dataframe tbody tr th {\n",
       "        vertical-align: top;\n",
       "    }\n",
       "\n",
       "    .dataframe thead th {\n",
       "        text-align: right;\n",
       "    }\n",
       "</style>\n",
       "<table border=\"1\" class=\"dataframe\">\n",
       "  <thead>\n",
       "    <tr style=\"text-align: right;\">\n",
       "      <th></th>\n",
       "      <th>Source Port</th>\n",
       "      <th>Destination Port</th>\n",
       "      <th>NAT Source Port</th>\n",
       "      <th>NAT Destination Port</th>\n",
       "      <th>Action</th>\n",
       "      <th>Bytes</th>\n",
       "      <th>Bytes Sent</th>\n",
       "      <th>Bytes Received</th>\n",
       "      <th>Packets</th>\n",
       "      <th>Elapsed Time (sec)</th>\n",
       "      <th>pkts_sent</th>\n",
       "      <th>pkts_received</th>\n",
       "    </tr>\n",
       "  </thead>\n",
       "  <tbody>\n",
       "    <tr>\n",
       "      <th>0</th>\n",
       "      <td>57222</td>\n",
       "      <td>53</td>\n",
       "      <td>54587</td>\n",
       "      <td>53</td>\n",
       "      <td>1</td>\n",
       "      <td>177</td>\n",
       "      <td>94</td>\n",
       "      <td>83</td>\n",
       "      <td>2</td>\n",
       "      <td>30</td>\n",
       "      <td>1</td>\n",
       "      <td>1</td>\n",
       "    </tr>\n",
       "    <tr>\n",
       "      <th>1</th>\n",
       "      <td>56258</td>\n",
       "      <td>3389</td>\n",
       "      <td>56258</td>\n",
       "      <td>3389</td>\n",
       "      <td>1</td>\n",
       "      <td>4768</td>\n",
       "      <td>1600</td>\n",
       "      <td>3168</td>\n",
       "      <td>19</td>\n",
       "      <td>17</td>\n",
       "      <td>10</td>\n",
       "      <td>9</td>\n",
       "    </tr>\n",
       "    <tr>\n",
       "      <th>2</th>\n",
       "      <td>6881</td>\n",
       "      <td>50321</td>\n",
       "      <td>43265</td>\n",
       "      <td>50321</td>\n",
       "      <td>1</td>\n",
       "      <td>238</td>\n",
       "      <td>118</td>\n",
       "      <td>120</td>\n",
       "      <td>2</td>\n",
       "      <td>1199</td>\n",
       "      <td>1</td>\n",
       "      <td>1</td>\n",
       "    </tr>\n",
       "    <tr>\n",
       "      <th>3</th>\n",
       "      <td>50553</td>\n",
       "      <td>3389</td>\n",
       "      <td>50553</td>\n",
       "      <td>3389</td>\n",
       "      <td>1</td>\n",
       "      <td>3327</td>\n",
       "      <td>1438</td>\n",
       "      <td>1889</td>\n",
       "      <td>15</td>\n",
       "      <td>17</td>\n",
       "      <td>8</td>\n",
       "      <td>7</td>\n",
       "    </tr>\n",
       "    <tr>\n",
       "      <th>4</th>\n",
       "      <td>50002</td>\n",
       "      <td>443</td>\n",
       "      <td>45848</td>\n",
       "      <td>443</td>\n",
       "      <td>1</td>\n",
       "      <td>25358</td>\n",
       "      <td>6778</td>\n",
       "      <td>18580</td>\n",
       "      <td>31</td>\n",
       "      <td>16</td>\n",
       "      <td>13</td>\n",
       "      <td>18</td>\n",
       "    </tr>\n",
       "  </tbody>\n",
       "</table>\n",
       "</div>"
      ],
      "text/plain": [
       "   Source Port  Destination Port  NAT Source Port  NAT Destination Port  \\\n",
       "0        57222                53            54587                    53   \n",
       "1        56258              3389            56258                  3389   \n",
       "2         6881             50321            43265                 50321   \n",
       "3        50553              3389            50553                  3389   \n",
       "4        50002               443            45848                   443   \n",
       "\n",
       "   Action  Bytes  Bytes Sent  Bytes Received  Packets  Elapsed Time (sec)  \\\n",
       "0       1    177          94              83        2                  30   \n",
       "1       1   4768        1600            3168       19                  17   \n",
       "2       1    238         118             120        2                1199   \n",
       "3       1   3327        1438            1889       15                  17   \n",
       "4       1  25358        6778           18580       31                  16   \n",
       "\n",
       "   pkts_sent  pkts_received  \n",
       "0          1              1  \n",
       "1         10              9  \n",
       "2          1              1  \n",
       "3          8              7  \n",
       "4         13             18  "
      ]
     },
     "execution_count": 7,
     "metadata": {},
     "output_type": "execute_result"
    }
   ],
   "source": [
    "dataset.head()"
   ]
  },
  {
   "cell_type": "code",
   "execution_count": 8,
   "id": "919064c2-9722-4b7f-b0b8-4c648763ffa5",
   "metadata": {},
   "outputs": [],
   "source": [
    "# splitting X and y into training and testing sets\n",
    "from sklearn.model_selection import train_test_split\n",
    "X_train, X_test, y_train, y_test = train_test_split(data, target, test_size=0.25, random_state=1)"
   ]
  },
  {
   "cell_type": "code",
   "execution_count": 9,
   "id": "4c461e6d-a97d-4f3e-897e-0321af246ffe",
   "metadata": {},
   "outputs": [
    {
     "data": {
      "text/plain": [
       "GaussianNB()"
      ]
     },
     "execution_count": 9,
     "metadata": {},
     "output_type": "execute_result"
    }
   ],
   "source": [
    "# Bernoulli Naive Bayes\n",
    "Bernoulli = BernoulliNB()\n",
    "Bernoulli.fit(X_train, y_train)\n",
    "\n",
    "# Gaussian Naive Bayes\n",
    "gnb = GaussianNB()\n",
    "gnb.fit(X_train, y_train)"
   ]
  },
  {
   "cell_type": "code",
   "execution_count": 10,
   "id": "62acba5c-a2da-4df6-8fc1-fc1818f6e59b",
   "metadata": {},
   "outputs": [],
   "source": [
    "# Naive Bayes prediction\n",
    "y_pred = Bernoulli.predict(X_test)\n",
    "y_pred_gnb = gnb.predict(X_test)"
   ]
  },
  {
   "cell_type": "code",
   "execution_count": 11,
   "id": "ba06d6f3-1dff-4f6a-b5d9-670e6b63a597",
   "metadata": {},
   "outputs": [
    {
     "name": "stdout",
     "output_type": "stream",
     "text": [
      "Accuracy(in %): 99.42013062320699\n",
      "F1 score(in %): 74.79372360515526\n",
      "Percision(in %): 74.82397802406963\n",
      "Recall(in %): 74.76453957435794\n"
     ]
    }
   ],
   "source": [
    "# comparing actual response values (y_test) with predicted response values (y_pred)  --> Bernoulli\n",
    "print(\"Accuracy(in %):\", metrics.accuracy_score(y_test, y_pred)*100)\n",
    "print(\"F1 score(in %):\", metrics.f1_score(y_test, y_pred,average='macro')*100)\n",
    "print(\"Percision(in %):\", metrics.precision_score(y_test, y_pred,average='macro')*100)\n",
    "print(\"Recall(in %):\", metrics.recall_score(y_test, y_pred,average='macro')*100)"
   ]
  },
  {
   "cell_type": "code",
   "execution_count": 12,
   "id": "3cafbe51-0ae5-43d7-a2fb-622f5a5cac2d",
   "metadata": {},
   "outputs": [
    {
     "name": "stdout",
     "output_type": "stream",
     "text": [
      "Accuracy(in %): 69.401208569859\n",
      "F1 score(in %): 63.92692543151348\n",
      "Percision(in %): 71.40897830500755\n",
      "Recall(in %): 66.9064895637678\n"
     ]
    }
   ],
   "source": [
    "# comparing actual response values (y_test) with predicted response values (y_pred)  --> Bernoulli\n",
    "print(\"Accuracy(in %):\", metrics.accuracy_score(y_test, y_pred_gnb)*100)\n",
    "print(\"F1 score(in %):\", metrics.f1_score(y_test, y_pred_gnb,average='macro')*100)\n",
    "print(\"Percision(in %):\", metrics.precision_score(y_test, y_pred_gnb,average='macro')*100)\n",
    "print(\"Recall(in %):\", metrics.recall_score(y_test, y_pred_gnb,average='macro')*100)"
   ]
  },
  {
   "cell_type": "code",
   "execution_count": 13,
   "id": "38a0793a-706e-42be-84c7-776b5ba5e536",
   "metadata": {},
   "outputs": [],
   "source": [
    "cm = metrics.confusion_matrix(y_test, y_pred)\n",
    "cm_gnb = metrics.confusion_matrix(y_test, y_pred_gnb)"
   ]
  },
  {
   "cell_type": "code",
   "execution_count": 14,
   "id": "e24fbf5e-fd18-4218-b187-c03ff7561790",
   "metadata": {},
   "outputs": [
    {
     "data": {
      "image/png": "[encoded data removed]",
      "text/plain": [
       "<Figure size 360x360 with 2 Axes>"
      ]
     },
     "metadata": {
      "needs_background": "light"
     },
     "output_type": "display_data"
    }
   ],
   "source": [
    "f, ax=plt.subplots(figsize=(5,5))\n",
    "sns.heatmap(cm,annot=True,linewidths=0.2,fmt=\".0f\",ax=ax)\n",
    "\n",
    "plt.title(\"Confusion Matrix\")\n",
    "plt.xlabel(\"Y Predict\")\n",
    "plt.ylabel(\"Y Actual\")\n",
    "plt.show()"
   ]
  },
  {
   "cell_type": "code",
   "execution_count": 15,
   "id": "70607ea2-0acb-441f-b0ff-baf98c8899dd",
   "metadata": {},
   "outputs": [
    {
     "name": "stdout",
     "output_type": "stream",
     "text": [
      "classification report for Bernoulli Naive Bayes\n",
      "              precision    recall  f1-score   support\n",
      "\n",
      "           0       1.00      1.00      1.00      3247\n",
      "           1       1.00      0.99      1.00      9324\n",
      "           2       0.99      1.00      1.00      3799\n",
      "           3       0.00      0.00      0.00        13\n",
      "\n",
      "    accuracy                           0.99     16383\n",
      "   macro avg       0.75      0.75      0.75     16383\n",
      "weighted avg       1.00      0.99      1.00     16383\n",
      "\n"
     ]
    }
   ],
   "source": [
    "print(\"classification report for Bernoulli Naive Bayes\")\n",
    "print(metrics.classification_report(y_test, y_pred))"
   ]
  },
  {
   "cell_type": "code",
   "execution_count": 16,
   "id": "cf16eacd",
   "metadata": {},
   "outputs": [
    {
     "data": {
      "image/png": "[encoded data removed]",
      "text/plain": [
       "<Figure size 360x360 with 2 Axes>"
      ]
     },
     "metadata": {
      "needs_background": "light"
     },
     "output_type": "display_data"
    }
   ],
   "source": [
    "f, ax=plt.subplots(figsize=(5,5))\n",
    "sns.heatmap(cm_gnb,annot=True,linewidths=0.2,fmt=\".0f\",ax=ax)\n",
    "\n",
    "plt.title(\"Confusion Matrix\")\n",
    "plt.xlabel(\"Y Predict\")\n",
    "plt.ylabel(\"Y Actual\")\n",
    "plt.show()"
   ]
  },
  {
   "cell_type": "code",
   "execution_count": 17,
   "id": "de2896ac-1b24-41c2-b69d-fa8846afd982",
   "metadata": {},
   "outputs": [
    {
     "name": "stdout",
     "output_type": "stream",
     "text": [
      "classification report for Gaussian Naive Bayes\n",
      "              precision    recall  f1-score   support\n",
      "\n",
      "           0       0.95      1.00      0.97      3247\n",
      "           1       1.00      0.48      0.64      9324\n",
      "           2       0.91      0.97      0.94      3799\n",
      "           3       0.00      0.23      0.00        13\n",
      "\n",
      "    accuracy                           0.69     16383\n",
      "   macro avg       0.71      0.67      0.64     16383\n",
      "weighted avg       0.97      0.69      0.78     16383\n",
      "\n"
     ]
    }
   ],
   "source": [
    "print(\"classification report for Gaussian Naive Bayes\")\n",
    "print(metrics.classification_report(y_test, y_pred_gnb))"
   ]
  },
  {
   "cell_type": "code",
   "execution_count": null,
   "id": "abdc5364",
   "metadata": {},
   "outputs": [],
   "source": []
  }
 ],
 "metadata": {
  "kernelspec": {
   "display_name": "Python 3 (ipykernel)",
   "language": "python",
   "name": "python3"
  },
  "language_info": {
   "codemirror_mode": {
    "name": "ipython",
    "version": 3
   },
   "file_extension": ".py",
   "mimetype": "text/x-python",
   "name": "python",
   "nbconvert_exporter": "python",
   "pygments_lexer": "ipython3",
   "version": "3.7.11"
  }
 },
 "nbformat": 4,
 "nbformat_minor": 5
}
